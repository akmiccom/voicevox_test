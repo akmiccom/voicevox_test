{
 "cells": [
  {
   "cell_type": "code",
   "execution_count": 2,
   "metadata": {},
   "outputs": [],
   "source": [
    "import requests\n",
    "from pydub import AudioSegment\n",
    "import os"
   ]
  },
  {
   "cell_type": "code",
   "execution_count": 3,
   "metadata": {},
   "outputs": [],
   "source": [
    "# VoicevoxエンジンのURL\n",
    "BASE_URL = \"http://127.0.0.1:50021\"\n",
    "\n",
    "\n",
    "def synthesize_voice(text, speaker, output_file):\n",
    "    \"\"\"\n",
    "    Voicevoxを使って音声を生成し、指定したファイルに保存\n",
    "    :param text: 合成するテキスト\n",
    "    :param speaker: スピーカーID\n",
    "    :param output_file: 保存先ファイルパス\n",
    "    \"\"\"\n",
    "    # 音声クエリを生成\n",
    "    response = requests.post(\n",
    "        f\"{BASE_URL}/audio_query\", params={\"text\": text, \"speaker\": speaker}\n",
    "    )\n",
    "    if response.status_code != 200:\n",
    "        print(\"クエリ生成に失敗:\", response.text)\n",
    "        return None\n",
    "\n",
    "    query = response.json()\n",
    "\n",
    "    # 音声を生成\n",
    "    response = requests.post(\n",
    "        f\"{BASE_URL}/synthesis\", json=query, params={\"speaker\": speaker}\n",
    "    )\n",
    "    if response.status_code != 200:\n",
    "        print(\"音声生成に失敗:\", response.text)\n",
    "        return None\n",
    "\n",
    "    # ファイルに保存\n",
    "    with open(output_file, \"wb\") as f:\n",
    "        f.write(response.content)\n",
    "    print(f'File Save : {output_file}')\n",
    "\n",
    "    return output_file"
   ]
  },
  {
   "cell_type": "code",
   "execution_count": 4,
   "metadata": {},
   "outputs": [],
   "source": [
    "def generate_conversation(conversation_script, output_file=\"wav/conversation.wav\"):\n",
    "    \"\"\"\n",
    "    会話のスクリプトを基に音声を生成し、1つの音声ファイルにまとめる\n",
    "    :param conversation_script: 会話スクリプト (リスト形式)\n",
    "    :param output_file: 保存する最終的な音声ファイル\n",
    "    \"\"\"\n",
    "    # 各セリフの音声を生成\n",
    "    audio_segments = []\n",
    "    for i, line in enumerate(conversation_script):\n",
    "        text = line[\"text\"]\n",
    "        speaker = line[\"speaker\"]\n",
    "        tmp_file = f\"../wav/tmp_{i+1:02}.wav\"\n",
    "        synthesize_voice(text, speaker, tmp_file)\n",
    "        segment = AudioSegment.from_file(tmp_file)\n",
    "        audio_segments.append(segment)\n",
    "        os.remove(tmp_file)\n",
    "        \n",
    "\n",
    "    # 全ての音声を結合\n",
    "    # combined_audio = sum(audio_segments)\n",
    "    silence = AudioSegment.silent(duration=500)  # 0.5秒の無音\n",
    "    combined_audio = sum([segment + silence for segment in audio_segments])\n",
    "\n",
    "    # ファイルに保存\n",
    "    combined_audio.export(output_file, format=\"wav\")\n",
    "    print(f\"会話音声を保存しました: {output_file}\")"
   ]
  },
  {
   "cell_type": "code",
   "execution_count": 5,
   "metadata": {},
   "outputs": [],
   "source": [
    "def conversation_script(scripts, speaker1, speaker2):\n",
    "    '''テキストとスピーカで辞書を作成'''\n",
    "    conversation_script = []\n",
    "    for i, text in enumerate(scripts.split()):\n",
    "        speaker = speaker1\n",
    "        if i % 2 == 1:\n",
    "            speaker=speaker2\n",
    "        tmp = {'text': text, 'speaker': speaker}\n",
    "        conversation_script.append(tmp)\n",
    "    return conversation_script"
   ]
  },
  {
   "cell_type": "code",
   "execution_count": 6,
   "metadata": {},
   "outputs": [
    {
     "name": "stdout",
     "output_type": "stream",
     "text": [
      "File Save : ../wav/tmp_01.wav\n",
      "File Save : ../wav/tmp_02.wav\n",
      "File Save : ../wav/tmp_03.wav\n",
      "File Save : ../wav/tmp_04.wav\n",
      "File Save : ../wav/tmp_05.wav\n",
      "File Save : ../wav/tmp_06.wav\n",
      "File Save : ../wav/tmp_07.wav\n",
      "File Save : ../wav/tmp_08.wav\n",
      "File Save : ../wav/tmp_09.wav\n",
      "File Save : ../wav/tmp_10.wav\n",
      "File Save : ../wav/tmp_11.wav\n",
      "File Save : ../wav/tmp_12.wav\n",
      "File Save : ../wav/tmp_13.wav\n",
      "File Save : ../wav/tmp_14.wav\n",
      "File Save : ../wav/tmp_15.wav\n",
      "会話音声を保存しました: ../wav/conversation.wav\n"
     ]
    }
   ],
   "source": [
    "# 実行例\n",
    "if __name__ == \"__main__\":\n",
    "\n",
    "    scripts = '''\n",
    "    こんにちは、お元気ですか？\n",
    "    疲れているようですね。\n",
    "    昨晩はよく眠れましたか？\n",
    "    いいえ、眠れませんでした。\n",
    "    どうして？ 昨日は何をしましたか？\n",
    "    昨晩、ナイトクラブに行って一晩中踊りました。\n",
    "    ああ、そうなんですか？ 楽しかったですか？\n",
    "    素晴らしい時間を過ごしましたが、今日は疲れ切っています。\n",
    "    何時にナイトクラブを出ましたか？\n",
    "    午前3時ごろに出ました。\n",
    "    疲れているのも無理はないですね。\n",
    "    どのナイトクラブに行ったんですか？\n",
    "    ファンタスティックです。オンタリオ・ストリートにあります。とても素敵なところです。\n",
    "    '''\n",
    "    \n",
    "    speaker1 = 29\n",
    "    speaker2 = 58\n",
    "\n",
    "    # # 重複しないランダムな数字を取得\n",
    "    # SPEAKERS_LIST = [\n",
    "    #     2, 3, 8, 10, 9, 11, 13, 14, 16, 20, 21, 23, 29, 42, 43, 46, 47, 51, 52, 53, 54, 55, 58, 61, 67, 68, 69, 74, 89\n",
    "    #     ]\n",
    "    # speaker1, speaker2 = random.sample(SPEAKERS_LIST, 2)\n",
    "\n",
    "    output_filename = \"../wav/conversation.wav\"\n",
    "\n",
    "    conversation_script = conversation_script(scripts, speaker1, speaker2)\n",
    "    \n",
    "    generate_conversation(conversation_script, output_filename)"
   ]
  }
 ],
 "metadata": {
  "kernelspec": {
   "display_name": ".venv",
   "language": "python",
   "name": "python3"
  },
  "language_info": {
   "codemirror_mode": {
    "name": "ipython",
    "version": 3
   },
   "file_extension": ".py",
   "mimetype": "text/x-python",
   "name": "python",
   "nbconvert_exporter": "python",
   "pygments_lexer": "ipython3",
   "version": "3.11.9"
  }
 },
 "nbformat": 4,
 "nbformat_minor": 2
}
