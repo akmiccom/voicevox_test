{
 "cells": [
  {
   "cell_type": "code",
   "execution_count": null,
   "metadata": {},
   "outputs": [
    {
     "name": "stdout",
     "output_type": "stream",
     "text": [
      "会話音声を保存しました: conversation.wav\n"
     ]
    }
   ],
   "source": [
    "import requests\n",
    "from pydub import AudioSegment\n",
    "\n",
    "# VoicevoxエンジンのURL\n",
    "BASE_URL = \"http://127.0.0.1:50021\"\n",
    "\n",
    "def synthesize_voice(text, speaker, output_file):\n",
    "    \"\"\"\n",
    "    Voicevoxを使って音声を生成し、指定したファイルに保存\n",
    "    :param text: 合成するテキスト\n",
    "    :param speaker: スピーカーID\n",
    "    :param output_file: 保存先ファイルパス\n",
    "    \"\"\"\n",
    "    # 音声クエリを生成\n",
    "    response = requests.post(f\"{BASE_URL}/audio_query\", params={\"text\": text, \"speaker\": speaker})\n",
    "    if response.status_code != 200:\n",
    "        print(\"クエリ生成に失敗:\", response.text)\n",
    "        return None\n",
    "\n",
    "    query = response.json()\n",
    "\n",
    "    # 音声を生成\n",
    "    response = requests.post(f\"{BASE_URL}/synthesis\", json=query, params={\"speaker\": speaker})\n",
    "    if response.status_code != 200:\n",
    "        print(\"音声生成に失敗:\", response.text)\n",
    "        return None\n",
    "\n",
    "    # ファイルに保存\n",
    "    with open(output_file, \"wb\") as f:\n",
    "        f.write(response.content)\n",
    "\n",
    "    return output_file\n",
    "\n",
    "def generate_conversation(conversation_script, output_file=\"conversation.wav\"):\n",
    "    \"\"\"\n",
    "    会話のスクリプトを基に音声を生成し、1つの音声ファイルにまとめる\n",
    "    :param conversation_script: 会話スクリプト (リスト形式)\n",
    "    :param output_file: 保存する最終的な音声ファイル\n",
    "    \"\"\"\n",
    "    # 各セリフの音声を生成\n",
    "    audio_segments = []\n",
    "    for i, line in enumerate(conversation_script):\n",
    "        text = line[\"text\"]\n",
    "        speaker = line[\"speaker\"]\n",
    "        temp_file = f\"../wav/test_{i}.wav\"\n",
    "        synthesize_voice(text, speaker, temp_file)\n",
    "        segment = AudioSegment.from_file(temp_file)\n",
    "        audio_segments.append(segment)\n",
    "\n",
    "    # 全ての音声を結合\n",
    "    # combined_audio = sum(audio_segments)\n",
    "    silence = AudioSegment.silent(duration=500)  # 0.5秒の無音\n",
    "    combined_audio = sum([segment + silence for segment in audio_segments])\n",
    "\n",
    "\n",
    "    # ファイルに保存\n",
    "    combined_audio.export(output_file, format=\"wav\")\n",
    "    print(f\"会話音声を保存しました: {output_file}\")\n",
    "\n",
    "# 実行例\n",
    "if __name__ == \"__main__\":\n",
    "    conversation_script = [\n",
    "        {\"text\": \"こんにちは、今日は何をしていますか？\", \"speaker\": 1},  # 四国めたん\n",
    "        {\"text\": \"こんにちは！少し散歩をしていました。\", \"speaker\": 2},  # ずんだもん\n",
    "        {\"text\": \"いいですね！天気も良いですし、気持ちよさそうです。\", \"speaker\": 1},\n",
    "        {\"text\": \"はい、とても気分転換になりました！\", \"speaker\": 2},\n",
    "    ]\n",
    "    generate_conversation(conversation_script, \"../wav/conversation.wav\")\n"
   ]
  }
 ],
 "metadata": {
  "kernelspec": {
   "display_name": ".venv",
   "language": "python",
   "name": "python3"
  },
  "language_info": {
   "codemirror_mode": {
    "name": "ipython",
    "version": 3
   },
   "file_extension": ".py",
   "mimetype": "text/x-python",
   "name": "python",
   "nbconvert_exporter": "python",
   "pygments_lexer": "ipython3",
   "version": "3.11.9"
  }
 },
 "nbformat": 4,
 "nbformat_minor": 2
}
