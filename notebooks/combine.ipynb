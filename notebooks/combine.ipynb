{
 "cells": [
  {
   "cell_type": "code",
   "execution_count": 8,
   "metadata": {},
   "outputs": [],
   "source": [
    "import wave\n",
    "import numpy as np\n",
    "import glob\n",
    "\n",
    "\n",
    "def combine():\n",
    "\n",
    "    audios = []\n",
    "\n",
    "    for f in sorted(glob.glob(\"wav/test_*.wav\")):\n",
    "        with wave.open(f, \"rb\") as fp:\n",
    "            buf = fp.readframes(-1)  # 全フレーム読み込み\n",
    "            assert fp.getsampwidth() == 2  # と仮定（np.int16でキャスト）\n",
    "            audios.append(np.frombuffer(buf, np.int16))\n",
    "            params = fp.getparams()\n",
    "    audio_data = np.concatenate(audios)\n",
    "\n",
    "    # 正規化（ピーク時基準）\n",
    "    # scaling_factors = [\n",
    "    #     np.iinfo(np.int16).max / (np.max(audio_data) + 1e-8),\n",
    "    #     np.iinfo(np.int16).min / (np.min(audio_data) + 1e-8),\n",
    "    # ]\n",
    "\n",
    "    # s>0:位相が反転しないようにする。ここをmaxにするとプチッというノイズが入るので注意\n",
    "    # scaling_factors = min([s for s in scaling_factors if s > 0])\n",
    "    # audio_data = (audio_data * scaling_factors).astype(np.int16)\n",
    "    with wave.Wave_write(\"combine.wav\") as fp:\n",
    "        fp.setparams(params)\n",
    "        fp.writeframes(audio_data.tobytes())\n"
   ]
  },
  {
   "cell_type": "code",
   "execution_count": 9,
   "metadata": {},
   "outputs": [
    {
     "ename": "ValueError",
     "evalue": "need at least one array to concatenate",
     "output_type": "error",
     "traceback": [
      "\u001b[1;31m---------------------------------------------------------------------------\u001b[0m",
      "\u001b[1;31mValueError\u001b[0m                                Traceback (most recent call last)",
      "Cell \u001b[1;32mIn[9], line 1\u001b[0m\n\u001b[1;32m----> 1\u001b[0m \u001b[43mcombine\u001b[49m\u001b[43m(\u001b[49m\u001b[43m)\u001b[49m\n",
      "Cell \u001b[1;32mIn[8], line 16\u001b[0m, in \u001b[0;36mcombine\u001b[1;34m()\u001b[0m\n\u001b[0;32m     14\u001b[0m         audios\u001b[38;5;241m.\u001b[39mappend(np\u001b[38;5;241m.\u001b[39mfrombuffer(buf, np\u001b[38;5;241m.\u001b[39mint16))\n\u001b[0;32m     15\u001b[0m         params \u001b[38;5;241m=\u001b[39m fp\u001b[38;5;241m.\u001b[39mgetparams()\n\u001b[1;32m---> 16\u001b[0m audio_data \u001b[38;5;241m=\u001b[39m \u001b[43mnp\u001b[49m\u001b[38;5;241;43m.\u001b[39;49m\u001b[43mconcatenate\u001b[49m\u001b[43m(\u001b[49m\u001b[43maudios\u001b[49m\u001b[43m)\u001b[49m\n\u001b[0;32m     18\u001b[0m \u001b[38;5;66;03m# 正規化（ピーク時基準）\u001b[39;00m\n\u001b[0;32m     19\u001b[0m \u001b[38;5;66;03m# scaling_factors = [\u001b[39;00m\n\u001b[0;32m     20\u001b[0m \u001b[38;5;66;03m#     np.iinfo(np.int16).max / (np.max(audio_data) + 1e-8),\u001b[39;00m\n\u001b[1;32m   (...)\u001b[0m\n\u001b[0;32m     25\u001b[0m \u001b[38;5;66;03m# scaling_factors = min([s for s in scaling_factors if s > 0])\u001b[39;00m\n\u001b[0;32m     26\u001b[0m \u001b[38;5;66;03m# audio_data = (audio_data * scaling_factors).astype(np.int16)\u001b[39;00m\n\u001b[0;32m     27\u001b[0m \u001b[38;5;28;01mwith\u001b[39;00m wave\u001b[38;5;241m.\u001b[39mWave_write(\u001b[38;5;124m\"\u001b[39m\u001b[38;5;124mcombine.wav\u001b[39m\u001b[38;5;124m\"\u001b[39m) \u001b[38;5;28;01mas\u001b[39;00m fp:\n",
      "\u001b[1;31mValueError\u001b[0m: need at least one array to concatenate"
     ]
    }
   ],
   "source": [
    "combine()"
   ]
  }
 ],
 "metadata": {
  "kernelspec": {
   "display_name": ".venv",
   "language": "python",
   "name": "python3"
  },
  "language_info": {
   "codemirror_mode": {
    "name": "ipython",
    "version": 3
   },
   "file_extension": ".py",
   "mimetype": "text/x-python",
   "name": "python",
   "nbconvert_exporter": "python",
   "pygments_lexer": "ipython3",
   "version": "3.11.9"
  }
 },
 "nbformat": 4,
 "nbformat_minor": 2
}
