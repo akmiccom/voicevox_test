{
 "cells": [
  {
   "cell_type": "code",
   "execution_count": null,
   "metadata": {},
   "outputs": [],
   "source": [
    "import requests\n",
    "import json\n",
    "\n",
    "\n",
    "# VoicevoxエンジンのURL\n",
    "BASE_URL = \"http://127.0.0.1:50021\"\n",
    "\n",
    "def synthesize_voice(text, speaker=1, filename=\"output.wav\"):\n",
    "    \"\"\"\n",
    "    テキストから音声を生成して再生する関数\n",
    "    :param text: 音声に変換するテキスト\n",
    "    :param speaker: 声の種類 (VoicevoxのスピーカーID)\n",
    "    \"\"\"\n",
    "    # 1. テキストから音声合成用クエリを生成\n",
    "    query_payload = {\"text\": text, \"speaker\": speaker}\n",
    "    response = requests.post(f\"{BASE_URL}/audio_query\", params=query_payload)\n",
    "    \n",
    "    if response.status_code != 200:\n",
    "        print(\"クエリ生成に失敗しました:\", response.text)\n",
    "        return\n",
    "\n",
    "    query = response.json()\n",
    "\n",
    "    # 2. 音声データを生成\n",
    "    synthesis_payload = query\n",
    "    response = requests.post(f\"{BASE_URL}/synthesis\", json=synthesis_payload, params={\"speaker\": speaker})\n",
    "\n",
    "    if response.status_code != 200:\n",
    "        print(\"音声生成に失敗しました:\", response.text)\n",
    "        return\n",
    "\n",
    "    # 3. 音声ファイルを保存して再生\n",
    "    with open(filename, \"wb\") as file:\n",
    "        file.write(response.content)\n",
    "\n",
    "# 使用例\n",
    "if __name__ == \"__main__\":\n",
    "\n",
    "    speaker = 29\n",
    "    text = \"すみません。この傘はあなたのですか？\"\n",
    "    synthesize_voice(text, speaker, filename=\"../wav/test_1.wav\")\n"
   ]
  },
  {
   "cell_type": "code",
   "execution_count": 2,
   "metadata": {},
   "outputs": [],
   "source": [
    "URL = \"http://localhost:50021\""
   ]
  },
  {
   "cell_type": "code",
   "execution_count": 11,
   "metadata": {},
   "outputs": [],
   "source": [
    "speaker = 29\n",
    "text = \"すみません。この傘はあなたのですか？\"\n",
    "filename = \"../wav/test_1.wav\"\n",
    "\n",
    "query_payload = {\"text\": text, \"speaker\": speaker}\n",
    "query_res = requests.post(f\"{URL}/audio_query\", params=query_payload)\n",
    "query = query_res.json()\n",
    "\n",
    "synthesis_payload = {\"speaker\": speaker}\n",
    "synthesis_res = requests.post(f\"{URL}/synthesis\", params=synthesis_payload, json=query)\n",
    "with open(filename, \"wb\") as f:\n",
    "    f.write(synthesis_res.content)"
   ]
  },
  {
   "cell_type": "code",
   "execution_count": 12,
   "metadata": {},
   "outputs": [],
   "source": [
    "speaker = 58\n",
    "text = \"いえ、違います。\"\n",
    "filename = \"../wav/test_2.wav\"\n",
    "\n",
    "query_payload = {\"text\": text, \"speaker\": speaker}\n",
    "query_res = requests.post(f\"{URL}/audio_query\", params=query_payload)\n",
    "query = query_res.json()\n",
    "\n",
    "synthesis_payload = {\"speaker\": speaker}\n",
    "synthesis_res = requests.post(f\"{URL}/synthesis\", params=synthesis_payload, json=query)\n",
    "with open(filename, \"wb\") as f:\n",
    "    f.write(synthesis_res.content)"
   ]
  },
  {
   "cell_type": "code",
   "execution_count": 8,
   "metadata": {},
   "outputs": [
    {
     "data": {
      "text/plain": [
       "{'accent_phrases': [{'moras': [{'text': 'ス',\n",
       "     'consonant': 's',\n",
       "     'consonant_length': 0.11577127873897552,\n",
       "     'vowel': 'u',\n",
       "     'vowel_length': 0.035616010427474976,\n",
       "     'pitch': 5.588288307189941},\n",
       "    {'text': 'ミ',\n",
       "     'consonant': 'm',\n",
       "     'consonant_length': 0.05877938121557236,\n",
       "     'vowel': 'i',\n",
       "     'vowel_length': 0.05130907520651817,\n",
       "     'pitch': 5.634348392486572},\n",
       "    {'text': 'マ',\n",
       "     'consonant': 'm',\n",
       "     'consonant_length': 0.09814189374446869,\n",
       "     'vowel': 'a',\n",
       "     'vowel_length': 0.03485648334026337,\n",
       "     'pitch': 5.707004547119141},\n",
       "    {'text': 'セ',\n",
       "     'consonant': 's',\n",
       "     'consonant_length': 0.09519929438829422,\n",
       "     'vowel': 'e',\n",
       "     'vowel_length': 0.12141278386116028,\n",
       "     'pitch': 5.766885757446289},\n",
       "    {'text': 'ン',\n",
       "     'consonant': None,\n",
       "     'consonant_length': None,\n",
       "     'vowel': 'N',\n",
       "     'vowel_length': 0.05820819362998009,\n",
       "     'pitch': 5.585287570953369}],\n",
       "   'accent': 4,\n",
       "   'pause_mora': {'text': '、',\n",
       "    'consonant': None,\n",
       "    'consonant_length': None,\n",
       "    'vowel': 'pau',\n",
       "    'vowel_length': 0.46558529138565063,\n",
       "    'pitch': 0.0},\n",
       "   'is_interrogative': False},\n",
       "  {'moras': [{'text': 'コ',\n",
       "     'consonant': 'k',\n",
       "     'consonant_length': 0.061921365559101105,\n",
       "     'vowel': 'o',\n",
       "     'vowel_length': 0.05872572585940361,\n",
       "     'pitch': 5.361159324645996},\n",
       "    {'text': 'ノ',\n",
       "     'consonant': 'n',\n",
       "     'consonant_length': 0.07241546362638474,\n",
       "     'vowel': 'o',\n",
       "     'vowel_length': 0.04396402835845947,\n",
       "     'pitch': 5.500840663909912}],\n",
       "   'accent': 2,\n",
       "   'pause_mora': None,\n",
       "   'is_interrogative': False},\n",
       "  {'moras': [{'text': 'カ',\n",
       "     'consonant': 'k',\n",
       "     'consonant_length': 0.07436808198690414,\n",
       "     'vowel': 'a',\n",
       "     'vowel_length': 0.04801084101200104,\n",
       "     'pitch': 5.753551006317139},\n",
       "    {'text': 'サ',\n",
       "     'consonant': 's',\n",
       "     'consonant_length': 0.0769442617893219,\n",
       "     'vowel': 'a',\n",
       "     'vowel_length': 0.04933903366327286,\n",
       "     'pitch': 5.6840643882751465},\n",
       "    {'text': 'ワ',\n",
       "     'consonant': 'w',\n",
       "     'consonant_length': 0.12031301856040955,\n",
       "     'vowel': 'a',\n",
       "     'vowel_length': 0.03177597373723984,\n",
       "     'pitch': 5.303334712982178}],\n",
       "   'accent': 1,\n",
       "   'pause_mora': None,\n",
       "   'is_interrogative': False},\n",
       "  {'moras': [{'text': 'ア',\n",
       "     'consonant': None,\n",
       "     'consonant_length': None,\n",
       "     'vowel': 'a',\n",
       "     'vowel_length': 0.017313271760940552,\n",
       "     'pitch': 5.135251522064209},\n",
       "    {'text': 'ナ',\n",
       "     'consonant': 'n',\n",
       "     'consonant_length': 0.05810124799609184,\n",
       "     'vowel': 'a',\n",
       "     'vowel_length': 0.054594412446022034,\n",
       "     'pitch': 5.448220252990723},\n",
       "    {'text': 'タ',\n",
       "     'consonant': 't',\n",
       "     'consonant_length': 0.06458517909049988,\n",
       "     'vowel': 'a',\n",
       "     'vowel_length': 0.049517929553985596,\n",
       "     'pitch': 5.762279987335205},\n",
       "    {'text': 'ノ',\n",
       "     'consonant': 'n',\n",
       "     'consonant_length': 0.08018064498901367,\n",
       "     'vowel': 'o',\n",
       "     'vowel_length': 0.025772221386432648,\n",
       "     'pitch': 5.648593425750732},\n",
       "    {'text': 'デ',\n",
       "     'consonant': 'd',\n",
       "     'consonant_length': 0.05987420678138733,\n",
       "     'vowel': 'e',\n",
       "     'vowel_length': 0.055830493569374084,\n",
       "     'pitch': 5.368783473968506},\n",
       "    {'text': 'ス',\n",
       "     'consonant': 's',\n",
       "     'consonant_length': 0.08899343013763428,\n",
       "     'vowel': 'U',\n",
       "     'vowel_length': 0.03704969584941864,\n",
       "     'pitch': 0.0},\n",
       "    {'text': 'カ',\n",
       "     'consonant': 'k',\n",
       "     'consonant_length': 0.05734473839402199,\n",
       "     'vowel': 'a',\n",
       "     'vowel_length': 0.1955377608537674,\n",
       "     'pitch': 5.406729221343994}],\n",
       "   'accent': 2,\n",
       "   'pause_mora': None,\n",
       "   'is_interrogative': True}],\n",
       " 'speedScale': 1.0,\n",
       " 'pitchScale': 0.0,\n",
       " 'intonationScale': 1.0,\n",
       " 'volumeScale': 1.0,\n",
       " 'prePhonemeLength': 0.1,\n",
       " 'postPhonemeLength': 0.1,\n",
       " 'pauseLength': None,\n",
       " 'pauseLengthScale': 1.0,\n",
       " 'outputSamplingRate': 24000,\n",
       " 'outputStereo': False,\n",
       " 'kana': \"スミマセ'ン、コノ'/カ'サワ/アナ'タノデ_スカ？\"}"
      ]
     },
     "execution_count": 8,
     "metadata": {},
     "output_type": "execute_result"
    }
   ],
   "source": [
    "query"
   ]
  },
  {
   "cell_type": "code",
   "execution_count": null,
   "metadata": {},
   "outputs": [
    {
     "name": "stdout",
     "output_type": "stream",
     "text": [
      "音声が voicevox_output.wav に保存されました。\n"
     ]
    }
   ],
   "source": [
    "def synthesize_voice(text, speaker=1, filename=\"output.wav\"):\n",
    "    query_payload = {\"text\": text, \"speaker\": speaker}\n",
    "    query_response = requests.post(f\"{URL}/audio_query\", params=query_payload)\n",
    "\n",
    "    if query_response.status_code != 200:\n",
    "        print(f\"Error in audio_query: {query_response.text}\")\n",
    "        return\n",
    "\n",
    "    query = query_response.json()\n",
    "\n",
    "    # 2. クエリを元に音声データを生成\n",
    "    synthesis_payload = {\"speaker\": speaker}\n",
    "    synthesis_response = requests.post(\n",
    "        f\"{URL}/synthesis\", params=synthesis_payload, json=query\n",
    "    )\n",
    "\n",
    "    if synthesis_response.status_code == 200:\n",
    "        # 音声ファイルとして保存\n",
    "        with open(filename, \"wb\") as f:\n",
    "            f.write(synthesis_response.content)\n",
    "        print(f\"音声が {filename} に保存されました。\")\n",
    "    else:\n",
    "        print(f\"Error in synthesis: {synthesis_response.text}\")\n",
    "\n",
    "\n",
    "if __name__ == \"__main__\":\n",
    "    # 読み上げたいテキスト\n",
    "    text = \"こんにちは。VOICEVOXでテキストを音声に変換しています。\"\n",
    "\n",
    "    # 音声合成の実行\n",
    "    synthesize_voice(text, speaker=29, filename=\"voicevox_output.wav\")"
   ]
  },
  {
   "cell_type": "code",
   "execution_count": 3,
   "metadata": {},
   "outputs": [],
   "source": [
    "URL = \"http://127.0.0.1:50021\"\n",
    "host = \"127.0.0.1\"\n",
    "port = 50021"
   ]
  },
  {
   "cell_type": "code",
   "execution_count": 4,
   "metadata": {},
   "outputs": [],
   "source": [
    "text = \"すみません。この傘はあなたのですか？\"\n",
    "\n",
    "speaker_id = 58\n",
    "\n",
    "params = {\n",
    "    'text': text,\n",
    "    'speaker': speaker_id,\n",
    "}"
   ]
  },
  {
   "cell_type": "code",
   "execution_count": null,
   "metadata": {},
   "outputs": [
    {
     "data": {
      "text/plain": [
       "<Response [200]>"
      ]
     },
     "execution_count": 5,
     "metadata": {},
     "output_type": "execute_result"
    }
   ],
   "source": [
    "# 音声合成用のクエリ作成\n",
    "query = requests.post(f\"{URL}/audio_query\", params=params)\n",
    "query"
   ]
  },
  {
   "cell_type": "code",
   "execution_count": 9,
   "metadata": {},
   "outputs": [
    {
     "data": {
      "text/plain": [
       "<Response [200]>"
      ]
     },
     "execution_count": 9,
     "metadata": {},
     "output_type": "execute_result"
    }
   ],
   "source": [
    "# 音声合成を実施\n",
    "synthesis = requests.post(\n",
    "    f'{URL}/synthesis',\n",
    "    headers = {\"Content-Type\": \"application/json\"},\n",
    "    params = params,\n",
    "    data = json.dumps(query.json())\n",
    ")\n",
    "synthesis"
   ]
  },
  {
   "cell_type": "code",
   "execution_count": null,
   "metadata": {},
   "outputs": [],
   "source": [
    "voice = synthesis.content\n",
    "file_paht = 'aaa.wav'"
   ]
  },
  {
   "cell_type": "code",
   "execution_count": 40,
   "metadata": {},
   "outputs": [],
   "source": [
    "# 再生処理\n",
    "voice = synthesis.content\n",
    "pya = pyaudio.PyAudio()\n",
    "\n",
    "# サンプリングレートが24000以外だとずんだもんが高音になったり低音になったりする\n",
    "stream = pya.open(format=pyaudio.paInt16,\n",
    "                    channels=1,\n",
    "                    rate=24000,\n",
    "                    output=True)\n",
    "\n",
    "stream.write(voice)\n",
    "stream.stop_stream()\n",
    "stream.close()\n",
    "pya.terminate()"
   ]
  },
  {
   "cell_type": "code",
   "execution_count": null,
   "metadata": {},
   "outputs": [],
   "source": [
    "def vvox_test(text, id):\n",
    "    # エンジン起動時に表示されているIP、portを指定\n",
    "    host = \"127.0.0.1\"\n",
    "    port = 50021\n",
    "    \n",
    "    # 音声化する文言と話者を指定(3で標準ずんだもんになる)\n",
    "    params = (\n",
    "        ('text', text),\n",
    "        ('speaker', id),\n",
    "    )\n",
    "    \n",
    "    # 音声合成用のクエリ作成\n",
    "    query = requests.post(\n",
    "        f'http://{host}:{port}/audio_query',\n",
    "        params=params\n",
    "    )\n",
    "    \n",
    "    # 音声合成を実施\n",
    "    synthesis = requests.post(\n",
    "        f'http://{host}:{port}/synthesis',\n",
    "        headers = {\"Content-Type\": \"application/json\"},\n",
    "        params = params,\n",
    "        data = json.dumps(query.json())\n",
    "    )\n",
    "    \n",
    "    # 再生処理\n",
    "    voice = synthesis.content\n",
    "    pya = pyaudio.PyAudio()\n",
    "    \n",
    "    # サンプリングレートが24000以外だとずんだもんが高音になったり低音になったりする\n",
    "    stream = pya.open(format=pyaudio.paInt16,\n",
    "                      channels=1,\n",
    "                      rate=24000,\n",
    "                      output=True)\n",
    "    \n",
    "    stream.write(voice)\n",
    "    stream.stop_stream()\n",
    "    stream.close()\n",
    "    pya.terminate()\n",
    "    \n",
    "# if __name__ == \"__main__\":\n",
    "#     text = f\"こんにちは。私の名前は{name_style}です。\"\n",
    "#     vvox_test(text, id)"
   ]
  },
  {
   "cell_type": "code",
   "execution_count": null,
   "metadata": {},
   "outputs": [
    {
     "name": "stdout",
     "output_type": "stream",
     "text": [
      "No.7:ノーマル\n",
      "猫使ビィ:ノーマル\n"
     ]
    }
   ],
   "source": [
    "text = f\"すみません。この傘はあなたのですか？\"\n",
    "vvox_test(text, 58)\n",
    "text = f\"いえ、違います。\"\n",
    "vvox_test(text, 29)\n",
    "text = f\"本当ですか？\"\n",
    "vvox_test(text, 58)\n",
    "text = f\"はい、本当です。その傘は茶色で、私の傘は黄色ですから。\"\n",
    "vvox_test(text, 29)"
   ]
  }
 ],
 "metadata": {
  "kernelspec": {
   "display_name": ".venv",
   "language": "python",
   "name": "python3"
  },
  "language_info": {
   "codemirror_mode": {
    "name": "ipython",
    "version": 3
   },
   "file_extension": ".py",
   "mimetype": "text/x-python",
   "name": "python",
   "nbconvert_exporter": "python",
   "pygments_lexer": "ipython3",
   "version": "3.11.9"
  }
 },
 "nbformat": 4,
 "nbformat_minor": 2
}
