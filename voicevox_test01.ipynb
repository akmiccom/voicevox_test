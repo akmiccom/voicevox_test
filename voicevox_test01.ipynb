{
 "cells": [
  {
   "cell_type": "code",
   "execution_count": 20,
   "metadata": {},
   "outputs": [],
   "source": [
    "import requests\n",
    "import json\n",
    "import pyaudio\n",
    "import random"
   ]
  },
  {
   "cell_type": "code",
   "execution_count": 3,
   "metadata": {},
   "outputs": [],
   "source": [
    "HOST = \"127.0.0.1\"\n",
    "PORT = \"50021\""
   ]
  },
  {
   "cell_type": "code",
   "execution_count": null,
   "metadata": {},
   "outputs": [],
   "source": [
    "def get_speakers():\n",
    "    url = f\"http://{HOST}:{PORT}/speakers\"  # VOICEVOX APIのエンドポイント\n",
    "    response = requests.get(url)\n",
    "\n",
    "    speakers_dict = {}\n",
    "    if response.status_code == 200:\n",
    "        speakers = response.json()\n",
    "        for speaker in speakers:\n",
    "            name = speaker[\"name\"]\n",
    "            styles = [style[\"name\"] for style in speaker[\"styles\"]]\n",
    "            ids = [style[\"id\"] for style in speaker[\"styles\"]]\n",
    "            for id, style in zip(ids, styles):\n",
    "                speakers_dict[id] = f\"{name}:{style}\"\n",
    "                # print(f\"Speaker: {name}, {style} id: {id}\")\n",
    "    else:\n",
    "        print(f\"Error: {response.status_code}\")\n",
    "\n",
    "    return speakers_dict\n",
    "\n",
    "\n",
    "if __name__ == \"__main__\":\n",
    "    speakers_dict = get_speakers()"
   ]
  },
  {
   "cell_type": "code",
   "execution_count": 187,
   "metadata": {},
   "outputs": [],
   "source": [
    "id = random.randint(0, max(speakers_dict.keys()))\n",
    "id = 5\n",
    "name_style = speakers_dict[id]"
   ]
  },
  {
   "cell_type": "code",
   "execution_count": 188,
   "metadata": {},
   "outputs": [],
   "source": [
    "def vvox_test(text, id):\n",
    "    # エンジン起動時に表示されているIP、portを指定\n",
    "    host = \"127.0.0.1\"\n",
    "    port = 50021\n",
    "    \n",
    "    # 音声化する文言と話者を指定(3で標準ずんだもんになる)\n",
    "    params = (\n",
    "        ('text', text),\n",
    "        ('speaker', id),\n",
    "    )\n",
    "    \n",
    "    # 音声合成用のクエリ作成\n",
    "    query = requests.post(\n",
    "        f'http://{host}:{port}/audio_query',\n",
    "        params=params\n",
    "    )\n",
    "    \n",
    "    # 音声合成を実施\n",
    "    synthesis = requests.post(\n",
    "        f'http://{host}:{port}/synthesis',\n",
    "        headers = {\"Content-Type\": \"application/json\"},\n",
    "        params = params,\n",
    "        data = json.dumps(query.json())\n",
    "    )\n",
    "    \n",
    "    # 再生処理\n",
    "    voice = synthesis.content\n",
    "    pya = pyaudio.PyAudio()\n",
    "    \n",
    "    # サンプリングレートが24000以外だとずんだもんが高音になったり低音になったりする\n",
    "    stream = pya.open(format=pyaudio.paInt16,\n",
    "                      channels=1,\n",
    "                      rate=24000,\n",
    "                      output=True)\n",
    "    \n",
    "    stream.write(voice)\n",
    "    stream.stop_stream()\n",
    "    stream.close()\n",
    "    pya.terminate()\n",
    "    \n",
    "if __name__ == \"__main__\":\n",
    "    text = f\"こんにちは。私の名前は{name_style}です。\"\n",
    "    vvox_test(text, id)"
   ]
  },
  {
   "cell_type": "code",
   "execution_count": null,
   "metadata": {},
   "outputs": [],
   "source": []
  }
 ],
 "metadata": {
  "kernelspec": {
   "display_name": ".venv",
   "language": "python",
   "name": "python3"
  },
  "language_info": {
   "codemirror_mode": {
    "name": "ipython",
    "version": 3
   },
   "file_extension": ".py",
   "mimetype": "text/x-python",
   "name": "python",
   "nbconvert_exporter": "python",
   "pygments_lexer": "ipython3",
   "version": "3.11.9"
  }
 },
 "nbformat": 4,
 "nbformat_minor": 2
}
